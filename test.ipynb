{
 "cells": [
  {
   "cell_type": "code",
   "execution_count": 1,
   "metadata": {},
   "outputs": [],
   "source": [
    "import math\n",
    "\n",
    "import numpy as np\n",
    "import pyproj\n",
    "import vtk"
   ]
  },
  {
   "cell_type": "code",
   "execution_count": 2,
   "metadata": {},
   "outputs": [],
   "source": [
    "rt90 = 'epsg:3021'  # RT90\n",
    "wgs84 = 'epsg:4326'  # Global lat-lon coordinate system\n",
    "\n",
    "rt90_to_latlon = pyproj.Transformer.from_crs(rt90, wgs84)\n",
    "tl = rt90_to_latlon.transform(1349340, 7022573)\n",
    "tr = rt90_to_latlon.transform(1371573, 7022967)\n",
    "br = rt90_to_latlon.transform(1371835, 7006362)\n",
    "bl = rt90_to_latlon.transform(1349602, 7005969)"
   ]
  },
  {
   "cell_type": "code",
   "execution_count": 3,
   "metadata": {},
   "outputs": [],
   "source": [
    "px = [bl[0], br[0], tr[0], tl[0]]\n",
    "py = [bl[1], br[1], tr[1], tl[1]]\n",
    "\n",
    "# compute coefficients\n",
    "A = [[1, 0, 0, 0], [1, 1, 0, 0], [1, 1, 1, 1], [1, 0, 1, 0]]\n",
    "AI = np.linalg.inv(A)\n",
    "a = np.matmul(AI,px)\n",
    "b = np.matmul(AI,py)"
   ]
  },
  {
   "cell_type": "code",
   "execution_count": 4,
   "metadata": {},
   "outputs": [
    {
     "data": {
      "text/plain": [
       "array([ 8.69060359e+00,  1.41589334e-01, -1.77190387e-02, -2.66615436e-04])"
      ]
     },
     "execution_count": 4,
     "metadata": {},
     "output_type": "execute_result"
    }
   ],
   "source": [
    "a"
   ]
  },
  {
   "cell_type": "code",
   "execution_count": 5,
   "metadata": {},
   "outputs": [
    {
     "data": {
      "text/plain": [
       "array([ 6.06848165e+01,  2.43023050e-02,  1.06223200e-01, -2.59658596e-06])"
      ]
     },
     "execution_count": 5,
     "metadata": {},
     "output_type": "execute_result"
    }
   ],
   "source": [
    "b"
   ]
  },
  {
   "cell_type": "code",
   "execution_count": 6,
   "metadata": {},
   "outputs": [],
   "source": [
    "def LtoX(x,y):\n",
    "    #quadratic equation coeffs, aa*mm^2+bb*m+cc=0\n",
    "    aa = a[3]*b[2] - a[2]*b[3]\n",
    "    bb = a[3]*b[0] - a[0]*b[3] + a[1]*b[2] - a[2]*b[1] + x*b[3] - y*a[3]\n",
    "    cc = a[1]*b[0] - a[0]*b[1] + x*b[1] - y*a[1]\n",
    "\n",
    "    #compute m = (-b+sqrt(b^2-4ac))/(2a)\n",
    "    det = math.sqrt(bb*bb - 4*aa*cc)\n",
    "    m = (-bb+det)/(2*aa)\n",
    "\n",
    "    #compute l\n",
    "    l = (x-a[0]-a[2]*m)/(a[1]+a[3]*m)\n",
    "    return l,m"
   ]
  },
  {
   "cell_type": "code",
   "execution_count": 7,
   "metadata": {},
   "outputs": [],
   "source": [
    "def XtoL(l,m):\n",
    "    newx = a[0] + a[1]*l + a[2]*m + a[3]*l*m\n",
    "    newy = b[0] + b[1]*l + b[2]*m + b[3]*l*m\n",
    "    return newx,newy"
   ]
  },
  {
   "cell_type": "code",
   "execution_count": 8,
   "metadata": {},
   "outputs": [
    {
     "name": "stdout",
     "output_type": "stream",
     "text": [
      "(0.0, -0.0)\n",
      "(-1.5515484638678795e-14, 0.9999999999998762)\n",
      "(1.0, -0.0)\n",
      "(0.999999999999968, 0.9999999999998457)\n",
      "(8.690603591508863, 60.68481654100474)\n",
      "(8.672884552833715, 60.79103974072171)\n",
      "(8.832192925809254, 60.709118845984214)\n",
      "(8.81420727169797, 60.81533944911522)\n"
     ]
    }
   ],
   "source": [
    "print(LtoX(bl[0],bl[1]))\n",
    "print(LtoX(tl[0],tl[1]))\n",
    "print(LtoX(br[0],br[1]))\n",
    "print(LtoX(tr[0],tr[1]))\n",
    "\n",
    "print(XtoL(0,0))\n",
    "print(XtoL(0,1))\n",
    "print(XtoL(1,0))\n",
    "print(XtoL(1,1))"
   ]
  }
 ],
 "metadata": {
  "interpreter": {
   "hash": "81d2cc1c04ae5b63a08bbf33fd78ce0a85e505011364f692a5b536c470e6861d"
  },
  "kernelspec": {
   "display_name": "Python 3.10.4 64-bit",
   "language": "python",
   "name": "python3"
  },
  "language_info": {
   "codemirror_mode": {
    "name": "ipython",
    "version": 3
   },
   "file_extension": ".py",
   "mimetype": "text/x-python",
   "name": "python",
   "nbconvert_exporter": "python",
   "pygments_lexer": "ipython3",
   "version": "3.10.4"
  },
  "orig_nbformat": 4
 },
 "nbformat": 4,
 "nbformat_minor": 2
}
