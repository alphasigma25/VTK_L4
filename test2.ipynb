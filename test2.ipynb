{
 "cells": [
  {
   "cell_type": "code",
   "execution_count": 46,
   "metadata": {},
   "outputs": [],
   "source": [
    "import math\n",
    "\n",
    "from typing import Tuple, List\n",
    "\n",
    "import numpy as np\n",
    "import pyproj\n",
    "import vtk"
   ]
  },
  {
   "cell_type": "code",
   "execution_count": 47,
   "metadata": {},
   "outputs": [],
   "source": [
    "def proche(a, b):\n",
    "    if(abs(a-b) < 0.01):\n",
    "        return True\n",
    "    return False\n",
    "\n",
    "\n",
    "def proche2(a, b, c):\n",
    "    return proche(a, b) or proche(a, c)\n"
   ]
  },
  {
   "cell_type": "code",
   "execution_count": 48,
   "metadata": {},
   "outputs": [],
   "source": [
    "class Converter:\n",
    "    \"\"\"Classe pour convertir des coordonnées depuis un espace quadrilatère de départ vers un espace carré dont les coordonnées sont comprises entre 0 et 1\"\"\"\n",
    "\n",
    "    def __init__(self, tr: Tuple[float, float], tl: Tuple[float, float], br: Tuple[float, float], bl: Tuple[float, float]) -> None:\n",
    "        \"\"\"Crée un convertisseur avec les cordonnée de coin l'espace de départ pour les mapper sur des coordonnées dont les valeurs sont comprises entre 0 et 1\n",
    "\n",
    "        Args:\n",
    "            tr (Tuple[float,float]): _description_\n",
    "            tl (Tuple[float,float]): _description_\n",
    "            br (Tuple[float,float]): _description_\n",
    "            bl (Tuple[float,float]): _description_\n",
    "        \"\"\"\n",
    "        # mapping\n",
    "        px = [bl[0], br[0], tr[0], tl[0]]\n",
    "        py = [bl[1], br[1], tr[1], tl[1]]\n",
    "\n",
    "        # compute coefficients\n",
    "        A = [[1, 0, 0, 0], [1, 1, 0, 0], [1, 1, 1, 1], [1, 0, 1, 0]]\n",
    "        AI = np.linalg.inv(A)\n",
    "        self.a = np.matmul(AI, py)\n",
    "        self.b = np.matmul(AI, px)\n",
    "\n",
    "    def l_to_x(self, y: float, x: float, ) -> Tuple[float, float]:\n",
    "        \"\"\"Convertit valeurs de l'espace de départ en valeurs entre 0 and 1\n",
    "\n",
    "        Args:\n",
    "            x (float): latitude\n",
    "            y (float): longitude\n",
    "\n",
    "        Returns:\n",
    "            Tuple[float,float]: coordonnées dans l'espace de départ\n",
    "        \"\"\"\n",
    "        # quadratic equation coeffs, aa*mm^2+bb*m+cc=0\n",
    "        aa = self.a[3] * self.b[2] - self.a[2] * self.b[3]\n",
    "        bb = self.a[3] * self.b[0] - self.a[0] * self.b[3] + self.a[1] * self.b[2] - self.a[2] * self.b[1] + x * self.b[\n",
    "            3] - y * self.a[3]\n",
    "        cc = self.a[1] * self.b[0] - self.a[0] * \\\n",
    "            self.b[1] + x * self.b[1] - y * self.a[1]\n",
    "\n",
    "        # compute m = (-b+sqrt(b^2-4ac))/(2a)\n",
    "        det = math.sqrt(bb * bb - 4 * aa * cc)\n",
    "        m = (-bb + det) / (2 * aa)\n",
    "\n",
    "        # compute l\n",
    "        l = (x - self.a[0] - self.a[2] * m) / (self.a[1] + self.a[3] * m)\n",
    "        return l, m\n",
    "\n",
    "    def x_to_l(self, l: float, m: float) -> Tuple[float, float]:\n",
    "        \"\"\"Convertit des coordonnées entre 0 et 1 vers l'espace de départ\n",
    "\n",
    "        Args:\n",
    "            l (float): valeur entre 0 et 1\n",
    "            m (float): valeur entre 0 et 1\n",
    "        Returns:\n",
    "             Tuple[float, float] (latitude, longitude)\n",
    "        \"\"\"\n",
    "        assert l >= 0\n",
    "        assert l <= 1\n",
    "        assert m >= 0\n",
    "        assert m <= 1\n",
    "        newx = self.a[0] + self.a[1] * l + self.a[2] * m + self.a[3] * l * m\n",
    "        newy = self.b[0] + self.b[1] * l + self.b[2] * m + self.b[3] * l * m\n",
    "        return newy, newx\n",
    "\n",
    "\n",
    "def get_index(lat: float, lon: float) -> Tuple[float, float]:\n",
    "    assert lat >= 60\n",
    "    assert lat <= 65\n",
    "    assert lon >= 10\n",
    "    assert lon <= 15\n",
    "    return (65-lat)*6000/(65-60), (lon-10) * 6000/(15-10)\n",
    "\n",
    "\n",
    "def index_to_coord(i: int, j: int) -> Tuple[float, float]:\n",
    "    assert i >= 0\n",
    "    assert i <= 6000\n",
    "    assert j >= 0\n",
    "    assert j <= 6000\n",
    "    return 60+(6000-i)/6000*5, 10+j/6000*5\n"
   ]
  },
  {
   "cell_type": "code",
   "execution_count": 49,
   "metadata": {},
   "outputs": [],
   "source": [
    "rt90 = 'epsg:3021'  # RT90\n",
    "wgs84 = 'epsg:4326'  # Global lat-lon coordinate system\n",
    "\n",
    "rt90_to_latlon = pyproj.Transformer.from_crs(rt90, wgs84)\n",
    "tl = rt90_to_latlon.transform(7022573, 1349340)\n",
    "tr = rt90_to_latlon.transform(7022967, 1371573)\n",
    "br = rt90_to_latlon.transform(7006362, 1371835)\n",
    "bl = rt90_to_latlon.transform(7005969, 1349602)\n",
    "\n",
    "conv = Converter(tr, tl, br, bl)"
   ]
  },
  {
   "cell_type": "code",
   "execution_count": 50,
   "metadata": {},
   "outputs": [
    {
     "name": "stdout",
     "output_type": "stream",
     "text": [
      "True True\n",
      "True True\n",
      "True True\n",
      "True True\n"
     ]
    }
   ],
   "source": [
    "def validate(coord):\n",
    "    a, b = conv.x_to_l(coord[0], coord[1])\n",
    "    c, d = conv.l_to_x(a, b)\n",
    "    print(proche(coord[0], c), proche(coord[1], d))\n",
    "\n",
    "\n",
    "validate((0.0, 0.0))\n",
    "validate((1.0, 0.0))\n",
    "validate((0.0, 1.0))\n",
    "validate((1.0, 1.0))\n"
   ]
  },
  {
   "cell_type": "code",
   "execution_count": 51,
   "metadata": {},
   "outputs": [
    {
     "name": "stdout",
     "output_type": "stream",
     "text": [
      "True True True True\n",
      "True True True True\n",
      "True True True True\n",
      "True True True True\n"
     ]
    }
   ],
   "source": [
    "def validate(coord, min, max):\n",
    "    a, b = conv.l_to_x(coord[0], coord[1])\n",
    "    c, d = conv.x_to_l(a, b)\n",
    "    print(proche(coord[0], c), proche(coord[1], d),\n",
    "          proche2(a, min, max), proche2(b, min, max))\n",
    "\n",
    "\n",
    "validate(tr, 0, 1)\n",
    "validate(tl, 0, 1)\n",
    "validate(br, 0, 1)\n",
    "validate(bl, 0, 1)\n"
   ]
  },
  {
   "cell_type": "code",
   "execution_count": 52,
   "metadata": {},
   "outputs": [
    {
     "name": "stdout",
     "output_type": "stream",
     "text": [
      "True True True True\n",
      "True True True True\n",
      "True True True True\n",
      "True True True True\n"
     ]
    }
   ],
   "source": [
    "def validate(coord, minX, maxX, minY, maxY):\n",
    "    a, b = index_to_coord(coord[0], coord[1])\n",
    "    c, d = get_index(a, b)\n",
    "    print(proche(coord[0], c), proche(coord[1], d),\n",
    "          proche2(a, minX, maxX), proche2(b, minY, maxY))\n",
    "\n",
    "\n",
    "validate((0.0, 0.0), 60, 65, 10, 15)\n",
    "validate((6000.0, 0.0), 60, 65, 10, 15)\n",
    "validate((0.0, 6000.0), 60, 65, 10, 15)\n",
    "validate((6000.0, 6000.0), 60, 65, 10, 15)\n"
   ]
  },
  {
   "cell_type": "code",
   "execution_count": 53,
   "metadata": {},
   "outputs": [
    {
     "name": "stdout",
     "output_type": "stream",
     "text": [
      "True True True True\n",
      "True True True True\n",
      "True True True True\n",
      "True True True True\n"
     ]
    }
   ],
   "source": [
    "def validate(coord, min, max):\n",
    "    a, b = get_index(coord[0], coord[1])\n",
    "    c, d = index_to_coord(a, b)\n",
    "    print(proche(coord[0], c), proche(coord[1], d),\n",
    "          proche2(a, min, max), proche2(b, min, max))\n",
    "\n",
    "\n",
    "validate((65.0, 10.0), 0, 6000)\n",
    "validate((60.0, 10.0), 0, 6000)\n",
    "validate((65.0, 15.0), 0, 6000)\n",
    "validate((60.0, 15.0), 0, 6000)\n"
   ]
  }
 ],
 "metadata": {
  "kernelspec": {
   "display_name": "Python 3.10.5 64-bit",
   "language": "python",
   "name": "python3"
  },
  "language_info": {
   "codemirror_mode": {
    "name": "ipython",
    "version": 3
   },
   "file_extension": ".py",
   "mimetype": "text/x-python",
   "name": "python",
   "nbconvert_exporter": "python",
   "pygments_lexer": "ipython3",
   "version": "3.10.5"
  },
  "orig_nbformat": 4,
  "vscode": {
   "interpreter": {
    "hash": "81d2cc1c04ae5b63a08bbf33fd78ce0a85e505011364f692a5b536c470e6861d"
   }
  }
 },
 "nbformat": 4,
 "nbformat_minor": 2
}
